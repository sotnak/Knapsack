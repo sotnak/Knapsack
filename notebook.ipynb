{
 "cells": [
  {
   "cell_type": "code",
   "execution_count": 37,
   "metadata": {},
   "outputs": [],
   "source": [
    "import matplotlib.pyplot as plt\n",
    "import pandas as pd\n",
    "import itertools\n",
    "import time"
   ]
  },
  {
   "cell_type": "code",
   "execution_count": 40,
   "metadata": {},
   "outputs": [],
   "source": [
    "def getTimes(filename):\n",
    "    df = pd.read_csv(filename, sep=' ', header=None).values\n",
    "\n",
    "    times = df[:,-1]\n",
    "    return times"
   ]
  },
  {
   "cell_type": "code",
   "execution_count": 22,
   "metadata": {},
   "outputs": [],
   "source": [
    "def printProgressBar (iteration, total, prefix = '', suffix = '', decimals = 1, length = 100, fill = '█', printEnd = \"\\r\"):\n",
    "    \"\"\"\n",
    "    Call in a loop to create terminal progress bar\n",
    "    @params:\n",
    "        iteration   - Required  : current iteration (Int)\n",
    "        total       - Required  : total iterations (Int)\n",
    "        prefix      - Optional  : prefix string (Str)\n",
    "        suffix      - Optional  : suffix string (Str)\n",
    "        decimals    - Optional  : positive number of decimals in percent complete (Int)\n",
    "        length      - Optional  : character length of bar (Int)\n",
    "        fill        - Optional  : bar fill character (Str)\n",
    "        printEnd    - Optional  : end character (e.g. \"\\r\", \"\\r\\n\") (Str)\n",
    "    \"\"\"\n",
    "    percent = (\"{0:.\" + f\"{decimals}\" + \"f}\").format(100 * (iteration / float(total)))\n",
    "    filledLength = int(length * iteration // total)\n",
    "    bar = fill * filledLength + '-' * (length - filledLength)\n",
    "    print(f'\\r{prefix} |{bar}| {percent}% {suffix}', end = printEnd)\n",
    "    # Print New Line on Complete\n",
    "    if iteration == total: \n",
    "        print()"
   ]
  },
  {
   "cell_type": "code",
   "execution_count": 58,
   "metadata": {},
   "outputs": [],
   "source": [
    "solvers = [\"bb\", \"brute\"]\n",
    "#solvers = [\"bb\"]\n",
    "problems = [\"NK4\", \"NK10\", \"NK15\", \"NK20\"]\n",
    "#problems = [\"NK30\"]"
   ]
  },
  {
   "cell_type": "code",
   "execution_count": 55,
   "metadata": {},
   "outputs": [
    {
     "name": "stdout",
     "output_type": "stream",
     "text": [
      "mkdir: cannot create directory ‘output’: File exists\n",
      "mkdir: cannot create directory ‘output/bb’: File exists\n",
      "bb - NK30\n",
      " |████████████████████████████████████████████████████████████████████████████████████████████████████| 100.0% \n",
      "337.0114531517029\n",
      "\n"
     ]
    }
   ],
   "source": [
    "program = \"./main\"\n",
    "\n",
    "!mkdir output\n",
    "for solver in solvers:\n",
    "    !mkdir \"output/{solver}\"\n",
    "\n",
    "\n",
    "for (problem, solver) in itertools.product(problems, solvers):\n",
    "    print(f\"{solver} - {problem}\")\n",
    "    output = open(f\"./output/{solver}/{problem}_sol.dat\", 'w')\n",
    "\n",
    "    input = open(f\"problems/{problem}_inst.dat\", 'r')\n",
    "    Lines = input.readlines()\n",
    "\n",
    "    start = time.time()\n",
    "    \n",
    "    for index, line in enumerate(Lines, start=0):\n",
    "        str = program + \" \" + solver + \" \" + line.strip()\n",
    "        #print(str)\n",
    "\n",
    "        res = !eval \"{str}\"\n",
    "        res = res[0]\n",
    "        \n",
    "        output.write(f\"{res}\\n\")\n",
    "\n",
    "        printProgressBar(index + 1, len(Lines))\n",
    "\n",
    "    end = time.time()\n",
    "    print(end - start)\n",
    "    print(\"\")\n",
    "\n",
    "    output.close()\n",
    "    input.close()"
   ]
  },
  {
   "cell_type": "code",
   "execution_count": 60,
   "metadata": {},
   "outputs": [
    {
     "data": {
      "image/png": "[encoded data removed]",
      "text/plain": [
       "<Figure size 432x288 with 1 Axes>"
      ]
     },
     "metadata": {
      "needs_background": "light"
     },
     "output_type": "display_data"
    }
   ],
   "source": [
    "problem = \"NK10\"\n",
    "\n",
    "timesbb = getTimes(f\"output/bb/{problem}_sol.dat\")\n",
    "timesbrute = getTimes(f\"output/brute/{problem}_sol.dat\")\n",
    "\n",
    "to_plot = []\n",
    "labels = []\n",
    "\n",
    "to_plot.append(timesbb)\n",
    "labels.append(\"bb\")\n",
    "\n",
    "to_plot.append(timesbrute)\n",
    "labels.append(\"brute\")\n",
    "\n",
    "fig, ax = plt.subplots(1,1)\n",
    "\n",
    "ax.hist(to_plot, alpha=0.75, label=labels, bins=30)\n",
    "ax.set(title=problem)\n",
    "ax.legend()\n",
    "\n",
    "plt.show()"
   ]
  }
 ],
 "metadata": {
  "kernelspec": {
   "display_name": "Python 3.10.4 64-bit",
   "language": "python",
   "name": "python3"
  },
  "language_info": {
   "codemirror_mode": {
    "name": "ipython",
    "version": 3
   },
   "file_extension": ".py",
   "mimetype": "text/x-python",
   "name": "python",
   "nbconvert_exporter": "python",
   "pygments_lexer": "ipython3",
   "version": "3.10.4"
  },
  "orig_nbformat": 4,
  "vscode": {
   "interpreter": {
    "hash": "916dbcbb3f70747c44a77c7bcd40155683ae19c65e1c03b4aa3499c5328201f1"
   }
  }
 },
 "nbformat": 4,
 "nbformat_minor": 2
}
